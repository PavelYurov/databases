{
  "nbformat": 4,
  "nbformat_minor": 0,
  "metadata": {
    "colab": {
      "provenance": []
    },
    "kernelspec": {
      "name": "python3",
      "display_name": "Python 3"
    },
    "language_info": {
      "name": "python"
    }
  },
  "cells": [
    {
      "cell_type": "code",
      "execution_count": 5,
      "metadata": {
        "colab": {
          "base_uri": "https://localhost:8080/"
        },
        "id": "520TpwWjPW7h",
        "outputId": "818384b8-6593-4b1e-bf65-184902642859"
      },
      "outputs": [
        {
          "output_type": "stream",
          "name": "stdout",
          "text": [
            "The sql extension is already loaded. To reload it, use:\n",
            "  %reload_ext sql\n"
          ]
        }
      ],
      "source": [
        "%load_ext sql\n",
        "%sql sqlite://"
      ]
    },
    {
      "cell_type": "code",
      "source": [
        "%%sql\n",
        "drop table if exists Students;\n",
        "drop table if exists Specialities;\n",
        "\n",
        "CREATE TABLE Specialities\n",
        "(\n",
        "    id integer primary key,\n",
        "    Name varchar(50)\n",
        ");"
      ],
      "metadata": {
        "colab": {
          "base_uri": "https://localhost:8080/"
        },
        "id": "Y05bM5CSPmav",
        "outputId": "b10d1102-92e0-4718-f8dd-ea99f53a224a"
      },
      "execution_count": 6,
      "outputs": [
        {
          "output_type": "stream",
          "name": "stdout",
          "text": [
            " * sqlite://\n",
            "Done.\n",
            "Done.\n",
            "Done.\n"
          ]
        },
        {
          "output_type": "execute_result",
          "data": {
            "text/plain": [
              "[]"
            ]
          },
          "metadata": {},
          "execution_count": 6
        }
      ]
    },
    {
      "cell_type": "code",
      "source": [
        "%sql select * from Specialities"
      ],
      "metadata": {
        "colab": {
          "base_uri": "https://localhost:8080/",
          "height": 75
        },
        "id": "AlKmDTNiP9gZ",
        "outputId": "f8aaf6cc-7ea2-4133-ab2e-4c49fc804d3e"
      },
      "execution_count": 7,
      "outputs": [
        {
          "output_type": "stream",
          "name": "stdout",
          "text": [
            " * sqlite://\n",
            "Done.\n"
          ]
        },
        {
          "output_type": "execute_result",
          "data": {
            "text/plain": [
              "[]"
            ],
            "text/html": [
              "<table>\n",
              "    <thead>\n",
              "        <tr>\n",
              "            <th>id</th>\n",
              "            <th>Name</th>\n",
              "        </tr>\n",
              "    </thead>\n",
              "    <tbody>\n",
              "    </tbody>\n",
              "</table>"
            ]
          },
          "metadata": {},
          "execution_count": 7
        }
      ]
    },
    {
      "cell_type": "code",
      "source": [
        "%%sql\n",
        "insert Into Specialities(id, name) values (1, 'Биотехнические системы и технологии');\n",
        "insert Into Specialities(id, name) values (2, 'Компьютерная безопасность');\n",
        "insert Into Specialities(id, name) values (3, 'Прикладная математика и информатика');\n",
        "insert Into Specialities(id, name) values (4, 'Мехатроника и робототехника');\n",
        "insert Into Specialities(id, name) values (5, 'Системный анализ и управление');\n",
        "insert Into Specialities(id, name) values (6, 'Информационная безопасность телекоммуникационных систем');\n",
        "insert Into Specialities(id, name) values (7, 'Управление в технических системах');"
      ],
      "metadata": {
        "colab": {
          "base_uri": "https://localhost:8080/"
        },
        "id": "RjtnLSs6QNt3",
        "outputId": "03ea8ded-3039-4486-c728-aa2e76ccd291"
      },
      "execution_count": 8,
      "outputs": [
        {
          "output_type": "stream",
          "name": "stdout",
          "text": [
            " * sqlite://\n",
            "1 rows affected.\n",
            "1 rows affected.\n",
            "1 rows affected.\n",
            "1 rows affected.\n",
            "1 rows affected.\n",
            "1 rows affected.\n",
            "1 rows affected.\n"
          ]
        },
        {
          "output_type": "execute_result",
          "data": {
            "text/plain": [
              "[]"
            ]
          },
          "metadata": {},
          "execution_count": 8
        }
      ]
    },
    {
      "cell_type": "code",
      "source": [
        "%%sql\n",
        "PRAGMA foreign_keys = ON;"
      ],
      "metadata": {
        "colab": {
          "base_uri": "https://localhost:8080/"
        },
        "id": "PbHZMJeeQTAv",
        "outputId": "44b5335b-933e-4ecc-ad7c-493d2f639b08"
      },
      "execution_count": 9,
      "outputs": [
        {
          "output_type": "stream",
          "name": "stdout",
          "text": [
            " * sqlite://\n",
            "Done.\n"
          ]
        },
        {
          "output_type": "execute_result",
          "data": {
            "text/plain": [
              "[]"
            ]
          },
          "metadata": {},
          "execution_count": 9
        }
      ]
    },
    {
      "cell_type": "code",
      "source": [
        "%%sql\n",
        "drop table if exists Students;\n",
        "\n",
        "CREATE TABLE Students\n",
        "(\n",
        "    student_id integer primary key,\n",
        "    Name varchar(50),\n",
        "    SecondName varchar(50),\n",
        "    Speciality_id integer ,\n",
        "    StudyGroup varchar(20),\n",
        "    GPA number,\n",
        "    foreign key(Speciality_id) references Specialities(id)\n",
        ");"
      ],
      "metadata": {
        "colab": {
          "base_uri": "https://localhost:8080/"
        },
        "id": "j5YxngqrQUX5",
        "outputId": "6ec74bf9-0f40-473b-9e2b-c29014aa4883"
      },
      "execution_count": 21,
      "outputs": [
        {
          "output_type": "stream",
          "name": "stdout",
          "text": [
            " * sqlite://\n",
            "Done.\n",
            "Done.\n"
          ]
        },
        {
          "output_type": "execute_result",
          "data": {
            "text/plain": [
              "[]"
            ]
          },
          "metadata": {},
          "execution_count": 21
        }
      ]
    },
    {
      "cell_type": "code",
      "source": [
        "%sql drop table if exists Students;"
      ],
      "metadata": {
        "colab": {
          "base_uri": "https://localhost:8080/"
        },
        "id": "kxb3_7V0RU8B",
        "outputId": "076f9996-f2c6-466b-f621-101ad13cabc6"
      },
      "execution_count": 20,
      "outputs": [
        {
          "output_type": "stream",
          "name": "stdout",
          "text": [
            " * sqlite://\n",
            "Done.\n"
          ]
        },
        {
          "output_type": "execute_result",
          "data": {
            "text/plain": [
              "[]"
            ]
          },
          "metadata": {},
          "execution_count": 20
        }
      ]
    },
    {
      "cell_type": "code",
      "source": [
        "%%sql\n",
        "insert into Students(student_id, SecondName, Name, Speciality_id, StudyGroup, GPA) VALUES (1, 'Альянов', 'Николай', 1, '04-20', 3.58);\n",
        "insert into Students(student_id, SecondName, Name, Speciality_id, StudyGroup, GPA) VALUES (2, 'Крыгина', 'Ева', 1, '01-20', 4.58);\n",
        "insert into Students(student_id, SecondName, Name, Speciality_id, StudyGroup, GPA) VALUES (3, 'Исаева', 'Анна', 1, '01-20', 4.75);\n",
        "insert into Students(student_id, SecondName, Name, Speciality_id, StudyGroup, GPA) VALUES (4, 'Егоров', 'Павел', 2, '01-20', 4.83);\n",
        "insert into Students(student_id, SecondName, Name, Speciality_id, StudyGroup, GPA) VALUES (5, 'Тихомиров', 'Тимофей', 2, '03-20', 4.18);\n",
        "insert into Students(student_id, SecondName, Name, Speciality_id, StudyGroup, GPA) VALUES (6, 'Ширшов', 'Александр', 2, '06-20', 3.91);\n",
        "insert into Students(student_id, SecondName, Name, Speciality_id, StudyGroup, GPA) VALUES (7, 'Фатеев', 'Максим', 3, '05-20', 3.8);\n",
        "insert into Students(student_id, SecondName, Name, Speciality_id, StudyGroup, GPA) VALUES (8, 'Киселев', 'Петр',  3, '05-20', 3.5);\n",
        "insert into Students(student_id, SecondName, Name, Speciality_id, StudyGroup, GPA) VALUES (9, 'Агашкина', 'Дарья', 4, '02-20', 4.18);\n",
        "insert into Students(student_id, SecondName, Name, Speciality_id, StudyGroup, GPA) VALUES (10, 'Горин', 'Олег', 5, '01-20', 3.89);\n",
        "insert into Students(student_id, SecondName, Name, Speciality_id, StudyGroup, GPA) VALUES (11, 'Комарова', 'Екатерина', 6, '02-20', 4.83);\n",
        "insert into Students(student_id, SecondName, Name, Speciality_id, StudyGroup, GPA) VALUES (12, 'Челыхов', 'Иван', 6, '06-20', 4.45);\n",
        "insert into Students(student_id, SecondName, Name, Speciality_id, StudyGroup, GPA) VALUES (13, 'Назаров', 'Александр', 6, '06-20', 3.73);\n",
        "insert into Students(student_id, SecondName, Name, Speciality_id, StudyGroup, GPA) VALUES (14, 'Горлова', 'Ксения', 7, '01-20', 5);\n",
        "select * from students"
      ],
      "metadata": {
        "colab": {
          "base_uri": "https://localhost:8080/",
          "height": 617
        },
        "id": "l882iYpwQjkf",
        "outputId": "f4af1187-b225-480e-a2cb-ba988ce868fd"
      },
      "execution_count": 22,
      "outputs": [
        {
          "output_type": "stream",
          "name": "stdout",
          "text": [
            " * sqlite://\n",
            "1 rows affected.\n",
            "1 rows affected.\n",
            "1 rows affected.\n",
            "1 rows affected.\n",
            "1 rows affected.\n",
            "1 rows affected.\n",
            "1 rows affected.\n",
            "1 rows affected.\n",
            "1 rows affected.\n",
            "1 rows affected.\n",
            "1 rows affected.\n",
            "1 rows affected.\n",
            "1 rows affected.\n",
            "1 rows affected.\n",
            "Done.\n"
          ]
        },
        {
          "output_type": "execute_result",
          "data": {
            "text/plain": [
              "[(1, 'Николай', 'Альянов', 1, '04-20', 3.58),\n",
              " (2, 'Ева', 'Крыгина', 1, '01-20', 4.58),\n",
              " (3, 'Анна', 'Исаева', 1, '01-20', 4.75),\n",
              " (4, 'Павел', 'Егоров', 2, '01-20', 4.83),\n",
              " (5, 'Тимофей', 'Тихомиров', 2, '03-20', 4.18),\n",
              " (6, 'Александр', 'Ширшов', 2, '06-20', 3.91),\n",
              " (7, 'Максим', 'Фатеев', 3, '05-20', 3.8),\n",
              " (8, 'Петр', 'Киселев', 3, '05-20', 3.5),\n",
              " (9, 'Дарья', 'Агашкина', 4, '02-20', 4.18),\n",
              " (10, 'Олег', 'Горин', 5, '01-20', 3.89),\n",
              " (11, 'Екатерина', 'Комарова', 6, '02-20', 4.83),\n",
              " (12, 'Иван', 'Челыхов', 6, '06-20', 4.45),\n",
              " (13, 'Александр', 'Назаров', 6, '06-20', 3.73),\n",
              " (14, 'Ксения', 'Горлова', 7, '01-20', 5)]"
            ],
            "text/html": [
              "<table>\n",
              "    <thead>\n",
              "        <tr>\n",
              "            <th>student_id</th>\n",
              "            <th>Name</th>\n",
              "            <th>SecondName</th>\n",
              "            <th>Speciality_id</th>\n",
              "            <th>StudyGroup</th>\n",
              "            <th>GPA</th>\n",
              "        </tr>\n",
              "    </thead>\n",
              "    <tbody>\n",
              "        <tr>\n",
              "            <td>1</td>\n",
              "            <td>Николай</td>\n",
              "            <td>Альянов</td>\n",
              "            <td>1</td>\n",
              "            <td>04-20</td>\n",
              "            <td>3.58</td>\n",
              "        </tr>\n",
              "        <tr>\n",
              "            <td>2</td>\n",
              "            <td>Ева</td>\n",
              "            <td>Крыгина</td>\n",
              "            <td>1</td>\n",
              "            <td>01-20</td>\n",
              "            <td>4.58</td>\n",
              "        </tr>\n",
              "        <tr>\n",
              "            <td>3</td>\n",
              "            <td>Анна</td>\n",
              "            <td>Исаева</td>\n",
              "            <td>1</td>\n",
              "            <td>01-20</td>\n",
              "            <td>4.75</td>\n",
              "        </tr>\n",
              "        <tr>\n",
              "            <td>4</td>\n",
              "            <td>Павел</td>\n",
              "            <td>Егоров</td>\n",
              "            <td>2</td>\n",
              "            <td>01-20</td>\n",
              "            <td>4.83</td>\n",
              "        </tr>\n",
              "        <tr>\n",
              "            <td>5</td>\n",
              "            <td>Тимофей</td>\n",
              "            <td>Тихомиров</td>\n",
              "            <td>2</td>\n",
              "            <td>03-20</td>\n",
              "            <td>4.18</td>\n",
              "        </tr>\n",
              "        <tr>\n",
              "            <td>6</td>\n",
              "            <td>Александр</td>\n",
              "            <td>Ширшов</td>\n",
              "            <td>2</td>\n",
              "            <td>06-20</td>\n",
              "            <td>3.91</td>\n",
              "        </tr>\n",
              "        <tr>\n",
              "            <td>7</td>\n",
              "            <td>Максим</td>\n",
              "            <td>Фатеев</td>\n",
              "            <td>3</td>\n",
              "            <td>05-20</td>\n",
              "            <td>3.8</td>\n",
              "        </tr>\n",
              "        <tr>\n",
              "            <td>8</td>\n",
              "            <td>Петр</td>\n",
              "            <td>Киселев</td>\n",
              "            <td>3</td>\n",
              "            <td>05-20</td>\n",
              "            <td>3.5</td>\n",
              "        </tr>\n",
              "        <tr>\n",
              "            <td>9</td>\n",
              "            <td>Дарья</td>\n",
              "            <td>Агашкина</td>\n",
              "            <td>4</td>\n",
              "            <td>02-20</td>\n",
              "            <td>4.18</td>\n",
              "        </tr>\n",
              "        <tr>\n",
              "            <td>10</td>\n",
              "            <td>Олег</td>\n",
              "            <td>Горин</td>\n",
              "            <td>5</td>\n",
              "            <td>01-20</td>\n",
              "            <td>3.89</td>\n",
              "        </tr>\n",
              "        <tr>\n",
              "            <td>11</td>\n",
              "            <td>Екатерина</td>\n",
              "            <td>Комарова</td>\n",
              "            <td>6</td>\n",
              "            <td>02-20</td>\n",
              "            <td>4.83</td>\n",
              "        </tr>\n",
              "        <tr>\n",
              "            <td>12</td>\n",
              "            <td>Иван</td>\n",
              "            <td>Челыхов</td>\n",
              "            <td>6</td>\n",
              "            <td>06-20</td>\n",
              "            <td>4.45</td>\n",
              "        </tr>\n",
              "        <tr>\n",
              "            <td>13</td>\n",
              "            <td>Александр</td>\n",
              "            <td>Назаров</td>\n",
              "            <td>6</td>\n",
              "            <td>06-20</td>\n",
              "            <td>3.73</td>\n",
              "        </tr>\n",
              "        <tr>\n",
              "            <td>14</td>\n",
              "            <td>Ксения</td>\n",
              "            <td>Горлова</td>\n",
              "            <td>7</td>\n",
              "            <td>01-20</td>\n",
              "            <td>5</td>\n",
              "        </tr>\n",
              "    </tbody>\n",
              "</table>"
            ]
          },
          "metadata": {},
          "execution_count": 22
        }
      ]
    },
    {
      "cell_type": "code",
      "source": [
        "%sql select * from Specialities"
      ],
      "metadata": {
        "colab": {
          "base_uri": "https://localhost:8080/",
          "height": 225
        },
        "id": "3esc-IqeRcJh",
        "outputId": "8776a530-8a04-4a61-ac23-e7d86672fd11"
      },
      "execution_count": 24,
      "outputs": [
        {
          "output_type": "stream",
          "name": "stdout",
          "text": [
            " * sqlite://\n",
            "Done.\n"
          ]
        },
        {
          "output_type": "execute_result",
          "data": {
            "text/plain": [
              "[(1, 'Биотехнические системы и технологии'),\n",
              " (2, 'Компьютерная безопасность'),\n",
              " (3, 'Прикладная математика и информатика'),\n",
              " (4, 'Мехатроника и робототехника'),\n",
              " (5, 'Системный анализ и управление'),\n",
              " (6, 'Информационная безопасность телекоммуникационных систем'),\n",
              " (7, 'Управление в технических системах')]"
            ],
            "text/html": [
              "<table>\n",
              "    <thead>\n",
              "        <tr>\n",
              "            <th>id</th>\n",
              "            <th>Name</th>\n",
              "        </tr>\n",
              "    </thead>\n",
              "    <tbody>\n",
              "        <tr>\n",
              "            <td>1</td>\n",
              "            <td>Биотехнические системы и технологии</td>\n",
              "        </tr>\n",
              "        <tr>\n",
              "            <td>2</td>\n",
              "            <td>Компьютерная безопасность</td>\n",
              "        </tr>\n",
              "        <tr>\n",
              "            <td>3</td>\n",
              "            <td>Прикладная математика и информатика</td>\n",
              "        </tr>\n",
              "        <tr>\n",
              "            <td>4</td>\n",
              "            <td>Мехатроника и робототехника</td>\n",
              "        </tr>\n",
              "        <tr>\n",
              "            <td>5</td>\n",
              "            <td>Системный анализ и управление</td>\n",
              "        </tr>\n",
              "        <tr>\n",
              "            <td>6</td>\n",
              "            <td>Информационная безопасность телекоммуникационных систем</td>\n",
              "        </tr>\n",
              "        <tr>\n",
              "            <td>7</td>\n",
              "            <td>Управление в технических системах</td>\n",
              "        </tr>\n",
              "    </tbody>\n",
              "</table>"
            ]
          },
          "metadata": {},
          "execution_count": 24
        }
      ]
    },
    {
      "cell_type": "markdown",
      "source": [
        "Задание 1. Напишите SQL-запрос, возвращающий фамилии всех студентов с именем Александр"
      ],
      "metadata": {
        "id": "mmW-MkVARwTT"
      }
    },
    {
      "cell_type": "code",
      "source": [
        "%sql select secondname from students where name == 'Александр';"
      ],
      "metadata": {
        "colab": {
          "base_uri": "https://localhost:8080/",
          "height": 118
        },
        "id": "2NWntvaQRoMr",
        "outputId": "a2f2a170-52e7-4947-94a1-cb57ef246755"
      },
      "execution_count": 25,
      "outputs": [
        {
          "output_type": "stream",
          "name": "stdout",
          "text": [
            " * sqlite://\n",
            "Done.\n"
          ]
        },
        {
          "output_type": "execute_result",
          "data": {
            "text/plain": [
              "[('Ширшов',), ('Назаров',)]"
            ],
            "text/html": [
              "<table>\n",
              "    <thead>\n",
              "        <tr>\n",
              "            <th>SecondName</th>\n",
              "        </tr>\n",
              "    </thead>\n",
              "    <tbody>\n",
              "        <tr>\n",
              "            <td>Ширшов</td>\n",
              "        </tr>\n",
              "        <tr>\n",
              "            <td>Назаров</td>\n",
              "        </tr>\n",
              "    </tbody>\n",
              "</table>"
            ]
          },
          "metadata": {},
          "execution_count": 25
        }
      ]
    },
    {
      "cell_type": "markdown",
      "source": [
        "Задание 2. Выведите все названия специальностей, на которых учится хотя бы один студент со средним баллом 4.5 и выше. Имя специальности должно встречаться один раз в выводе"
      ],
      "metadata": {
        "id": "jlege2R3R_nl"
      }
    },
    {
      "cell_type": "code",
      "source": [
        "%%sql\n",
        "select name from Specialities where id in (select Speciality_id from students where GPA >= 4.5)"
      ],
      "metadata": {
        "colab": {
          "base_uri": "https://localhost:8080/",
          "height": 161
        },
        "id": "gIfwvoVxSB-2",
        "outputId": "b829a09f-bdb4-48b6-e5e9-8f06b53fbf59"
      },
      "execution_count": 28,
      "outputs": [
        {
          "output_type": "stream",
          "name": "stdout",
          "text": [
            " * sqlite://\n",
            "Done.\n"
          ]
        },
        {
          "output_type": "execute_result",
          "data": {
            "text/plain": [
              "[('Биотехнические системы и технологии',),\n",
              " ('Компьютерная безопасность',),\n",
              " ('Информационная безопасность телекоммуникационных систем',),\n",
              " ('Управление в технических системах',)]"
            ],
            "text/html": [
              "<table>\n",
              "    <thead>\n",
              "        <tr>\n",
              "            <th>Name</th>\n",
              "        </tr>\n",
              "    </thead>\n",
              "    <tbody>\n",
              "        <tr>\n",
              "            <td>Биотехнические системы и технологии</td>\n",
              "        </tr>\n",
              "        <tr>\n",
              "            <td>Компьютерная безопасность</td>\n",
              "        </tr>\n",
              "        <tr>\n",
              "            <td>Информационная безопасность телекоммуникационных систем</td>\n",
              "        </tr>\n",
              "        <tr>\n",
              "            <td>Управление в технических системах</td>\n",
              "        </tr>\n",
              "    </tbody>\n",
              "</table>"
            ]
          },
          "metadata": {},
          "execution_count": 28
        }
      ]
    },
    {
      "cell_type": "markdown",
      "source": [
        "Задание 3. Вывести только тех студентов, фамилия которых начинается с буквы 'к', а в имени есть буква 'е'."
      ],
      "metadata": {
        "id": "q83iibyKTNBQ"
      }
    },
    {
      "cell_type": "code",
      "source": [
        "%sql select * from students where (secondname like 'К%') and ((name like '%е%') or (name like 'Е%'))"
      ],
      "metadata": {
        "colab": {
          "base_uri": "https://localhost:8080/",
          "height": 139
        },
        "id": "2d2mPXrNTPh9",
        "outputId": "be0bb7d1-bf94-4da8-8352-32632ea07d7a"
      },
      "execution_count": 35,
      "outputs": [
        {
          "output_type": "stream",
          "name": "stdout",
          "text": [
            " * sqlite://\n",
            "Done.\n"
          ]
        },
        {
          "output_type": "execute_result",
          "data": {
            "text/plain": [
              "[(2, 'Ева', 'Крыгина', 1, '01-20', 4.58),\n",
              " (8, 'Петр', 'Киселев', 3, '05-20', 3.5),\n",
              " (11, 'Екатерина', 'Комарова', 6, '02-20', 4.83)]"
            ],
            "text/html": [
              "<table>\n",
              "    <thead>\n",
              "        <tr>\n",
              "            <th>student_id</th>\n",
              "            <th>Name</th>\n",
              "            <th>SecondName</th>\n",
              "            <th>Speciality_id</th>\n",
              "            <th>StudyGroup</th>\n",
              "            <th>GPA</th>\n",
              "        </tr>\n",
              "    </thead>\n",
              "    <tbody>\n",
              "        <tr>\n",
              "            <td>2</td>\n",
              "            <td>Ева</td>\n",
              "            <td>Крыгина</td>\n",
              "            <td>1</td>\n",
              "            <td>01-20</td>\n",
              "            <td>4.58</td>\n",
              "        </tr>\n",
              "        <tr>\n",
              "            <td>8</td>\n",
              "            <td>Петр</td>\n",
              "            <td>Киселев</td>\n",
              "            <td>3</td>\n",
              "            <td>05-20</td>\n",
              "            <td>3.5</td>\n",
              "        </tr>\n",
              "        <tr>\n",
              "            <td>11</td>\n",
              "            <td>Екатерина</td>\n",
              "            <td>Комарова</td>\n",
              "            <td>6</td>\n",
              "            <td>02-20</td>\n",
              "            <td>4.83</td>\n",
              "        </tr>\n",
              "    </tbody>\n",
              "</table>"
            ]
          },
          "metadata": {},
          "execution_count": 35
        }
      ]
    },
    {
      "cell_type": "markdown",
      "source": [
        "Задание 4. Вывести специальности (+ их средние баллы), количество групп в которых больше одной"
      ],
      "metadata": {
        "id": "oUBL5vf_Ylek"
      }
    },
    {
      "cell_type": "code",
      "source": [
        "%%sql\n",
        "--попытка №1 (частичный успех)\n",
        "select *from Specialities where id in(\n",
        "select Speciality_id\n",
        "from students\n",
        "group by Speciality_id\n",
        "having COUNT(distinct StudyGroup) > 1)"
      ],
      "metadata": {
        "colab": {
          "base_uri": "https://localhost:8080/",
          "height": 139
        },
        "id": "KFPaKrp4cSii",
        "outputId": "ae9143d8-2abe-4051-ff62-28ac20b97856"
      },
      "execution_count": 53,
      "outputs": [
        {
          "output_type": "stream",
          "name": "stdout",
          "text": [
            " * sqlite://\n",
            "Done.\n"
          ]
        },
        {
          "output_type": "execute_result",
          "data": {
            "text/plain": [
              "[(1, 'Биотехнические системы и технологии'),\n",
              " (2, 'Компьютерная безопасность'),\n",
              " (6, 'Информационная безопасность телекоммуникационных систем')]"
            ],
            "text/html": [
              "<table>\n",
              "    <thead>\n",
              "        <tr>\n",
              "            <th>id</th>\n",
              "            <th>Name</th>\n",
              "        </tr>\n",
              "    </thead>\n",
              "    <tbody>\n",
              "        <tr>\n",
              "            <td>1</td>\n",
              "            <td>Биотехнические системы и технологии</td>\n",
              "        </tr>\n",
              "        <tr>\n",
              "            <td>2</td>\n",
              "            <td>Компьютерная безопасность</td>\n",
              "        </tr>\n",
              "        <tr>\n",
              "            <td>6</td>\n",
              "            <td>Информационная безопасность телекоммуникационных систем</td>\n",
              "        </tr>\n",
              "    </tbody>\n",
              "</table>"
            ]
          },
          "metadata": {},
          "execution_count": 53
        }
      ]
    },
    {
      "cell_type": "code",
      "source": [
        "%%sql\n",
        "--попытка №2 (успех)\n",
        "select SP.id, SP.Name, avg(ST.GPA)\n",
        " from Specialities SP\n",
        " join Students ST\n",
        " on ST.Speciality_id = SP.id\n",
        "group by ST.Speciality_id\n",
        "having COUNT(distinct StudyGroup) > 1"
      ],
      "metadata": {
        "colab": {
          "base_uri": "https://localhost:8080/",
          "height": 139
        },
        "id": "C8GuwlnMeQrM",
        "outputId": "82e7709b-671a-4ce0-9269-adecd07b001d"
      },
      "execution_count": 64,
      "outputs": [
        {
          "output_type": "stream",
          "name": "stdout",
          "text": [
            " * sqlite://\n",
            "Done.\n"
          ]
        },
        {
          "output_type": "execute_result",
          "data": {
            "text/plain": [
              "[(1, 'Биотехнические системы и технологии', 4.303333333333334),\n",
              " (2, 'Компьютерная безопасность', 4.306666666666667),\n",
              " (6, 'Информационная безопасность телекоммуникационных систем', 4.336666666666667)]"
            ],
            "text/html": [
              "<table>\n",
              "    <thead>\n",
              "        <tr>\n",
              "            <th>id</th>\n",
              "            <th>Name</th>\n",
              "            <th>avg(ST.GPA)</th>\n",
              "        </tr>\n",
              "    </thead>\n",
              "    <tbody>\n",
              "        <tr>\n",
              "            <td>1</td>\n",
              "            <td>Биотехнические системы и технологии</td>\n",
              "            <td>4.303333333333334</td>\n",
              "        </tr>\n",
              "        <tr>\n",
              "            <td>2</td>\n",
              "            <td>Компьютерная безопасность</td>\n",
              "            <td>4.306666666666667</td>\n",
              "        </tr>\n",
              "        <tr>\n",
              "            <td>6</td>\n",
              "            <td>Информационная безопасность телекоммуникационных систем</td>\n",
              "            <td>4.336666666666667</td>\n",
              "        </tr>\n",
              "    </tbody>\n",
              "</table>"
            ]
          },
          "metadata": {},
          "execution_count": 64
        }
      ]
    },
    {
      "cell_type": "code",
      "source": [
        "%sql select * from students"
      ],
      "metadata": {
        "colab": {
          "base_uri": "https://localhost:8080/",
          "height": 374
        },
        "id": "sV5rIcp1fdlw",
        "outputId": "d57853b0-e194-4b9e-fdc8-5387531573f6"
      },
      "execution_count": 58,
      "outputs": [
        {
          "output_type": "stream",
          "name": "stdout",
          "text": [
            " * sqlite://\n",
            "Done.\n"
          ]
        },
        {
          "output_type": "execute_result",
          "data": {
            "text/plain": [
              "[(1, 'Николай', 'Альянов', 1, '04-20', 3.58),\n",
              " (2, 'Ева', 'Крыгина', 1, '01-20', 4.58),\n",
              " (3, 'Анна', 'Исаева', 1, '01-20', 4.75),\n",
              " (4, 'Павел', 'Егоров', 2, '01-20', 4.83),\n",
              " (5, 'Тимофей', 'Тихомиров', 2, '03-20', 4.18),\n",
              " (6, 'Александр', 'Ширшов', 2, '06-20', 3.91),\n",
              " (7, 'Максим', 'Фатеев', 3, '05-20', 3.8),\n",
              " (8, 'Петр', 'Киселев', 3, '05-20', 3.5),\n",
              " (9, 'Дарья', 'Агашкина', 4, '02-20', 4.18),\n",
              " (10, 'Олег', 'Горин', 5, '01-20', 3.89),\n",
              " (11, 'Екатерина', 'Комарова', 6, '02-20', 4.83),\n",
              " (12, 'Иван', 'Челыхов', 6, '06-20', 4.45),\n",
              " (13, 'Александр', 'Назаров', 6, '06-20', 3.73),\n",
              " (14, 'Ксения', 'Горлова', 7, '01-20', 5)]"
            ],
            "text/html": [
              "<table>\n",
              "    <thead>\n",
              "        <tr>\n",
              "            <th>student_id</th>\n",
              "            <th>Name</th>\n",
              "            <th>SecondName</th>\n",
              "            <th>Speciality_id</th>\n",
              "            <th>StudyGroup</th>\n",
              "            <th>GPA</th>\n",
              "        </tr>\n",
              "    </thead>\n",
              "    <tbody>\n",
              "        <tr>\n",
              "            <td>1</td>\n",
              "            <td>Николай</td>\n",
              "            <td>Альянов</td>\n",
              "            <td>1</td>\n",
              "            <td>04-20</td>\n",
              "            <td>3.58</td>\n",
              "        </tr>\n",
              "        <tr>\n",
              "            <td>2</td>\n",
              "            <td>Ева</td>\n",
              "            <td>Крыгина</td>\n",
              "            <td>1</td>\n",
              "            <td>01-20</td>\n",
              "            <td>4.58</td>\n",
              "        </tr>\n",
              "        <tr>\n",
              "            <td>3</td>\n",
              "            <td>Анна</td>\n",
              "            <td>Исаева</td>\n",
              "            <td>1</td>\n",
              "            <td>01-20</td>\n",
              "            <td>4.75</td>\n",
              "        </tr>\n",
              "        <tr>\n",
              "            <td>4</td>\n",
              "            <td>Павел</td>\n",
              "            <td>Егоров</td>\n",
              "            <td>2</td>\n",
              "            <td>01-20</td>\n",
              "            <td>4.83</td>\n",
              "        </tr>\n",
              "        <tr>\n",
              "            <td>5</td>\n",
              "            <td>Тимофей</td>\n",
              "            <td>Тихомиров</td>\n",
              "            <td>2</td>\n",
              "            <td>03-20</td>\n",
              "            <td>4.18</td>\n",
              "        </tr>\n",
              "        <tr>\n",
              "            <td>6</td>\n",
              "            <td>Александр</td>\n",
              "            <td>Ширшов</td>\n",
              "            <td>2</td>\n",
              "            <td>06-20</td>\n",
              "            <td>3.91</td>\n",
              "        </tr>\n",
              "        <tr>\n",
              "            <td>7</td>\n",
              "            <td>Максим</td>\n",
              "            <td>Фатеев</td>\n",
              "            <td>3</td>\n",
              "            <td>05-20</td>\n",
              "            <td>3.8</td>\n",
              "        </tr>\n",
              "        <tr>\n",
              "            <td>8</td>\n",
              "            <td>Петр</td>\n",
              "            <td>Киселев</td>\n",
              "            <td>3</td>\n",
              "            <td>05-20</td>\n",
              "            <td>3.5</td>\n",
              "        </tr>\n",
              "        <tr>\n",
              "            <td>9</td>\n",
              "            <td>Дарья</td>\n",
              "            <td>Агашкина</td>\n",
              "            <td>4</td>\n",
              "            <td>02-20</td>\n",
              "            <td>4.18</td>\n",
              "        </tr>\n",
              "        <tr>\n",
              "            <td>10</td>\n",
              "            <td>Олег</td>\n",
              "            <td>Горин</td>\n",
              "            <td>5</td>\n",
              "            <td>01-20</td>\n",
              "            <td>3.89</td>\n",
              "        </tr>\n",
              "        <tr>\n",
              "            <td>11</td>\n",
              "            <td>Екатерина</td>\n",
              "            <td>Комарова</td>\n",
              "            <td>6</td>\n",
              "            <td>02-20</td>\n",
              "            <td>4.83</td>\n",
              "        </tr>\n",
              "        <tr>\n",
              "            <td>12</td>\n",
              "            <td>Иван</td>\n",
              "            <td>Челыхов</td>\n",
              "            <td>6</td>\n",
              "            <td>06-20</td>\n",
              "            <td>4.45</td>\n",
              "        </tr>\n",
              "        <tr>\n",
              "            <td>13</td>\n",
              "            <td>Александр</td>\n",
              "            <td>Назаров</td>\n",
              "            <td>6</td>\n",
              "            <td>06-20</td>\n",
              "            <td>3.73</td>\n",
              "        </tr>\n",
              "        <tr>\n",
              "            <td>14</td>\n",
              "            <td>Ксения</td>\n",
              "            <td>Горлова</td>\n",
              "            <td>7</td>\n",
              "            <td>01-20</td>\n",
              "            <td>5</td>\n",
              "        </tr>\n",
              "    </tbody>\n",
              "</table>"
            ]
          },
          "metadata": {},
          "execution_count": 58
        }
      ]
    },
    {
      "cell_type": "markdown",
      "source": [
        "Задание 5. Для всех специальностей вывести средний балл по специальности для студентов, в чьей фамилия вторая буква НЕ 'а', при условии, что количество таких студентов на специальности не менее 2. В обратном случае, специальность выводить не требуется"
      ],
      "metadata": {
        "id": "zh47vvHiYoy2"
      }
    },
    {
      "cell_type": "code",
      "source": [
        "%%sql\n",
        "select SP.id, SP.name, avg(ST.GPA)\n",
        "from (select * from students where secondname not like '_а%') ST\n",
        "join Specialities SP\n",
        "on ST.Speciality_id = SP.id\n",
        "group by ST.Speciality_id\n",
        "having COUNT(ST.student_id) > 1"
      ],
      "metadata": {
        "colab": {
          "base_uri": "https://localhost:8080/",
          "height": 139
        },
        "id": "Hkd-qnnDYpPF",
        "outputId": "f0d7fd66-77c3-4ee3-8fc8-aa67dd2c4359"
      },
      "execution_count": 73,
      "outputs": [
        {
          "output_type": "stream",
          "name": "stdout",
          "text": [
            " * sqlite://\n",
            "Done.\n"
          ]
        },
        {
          "output_type": "execute_result",
          "data": {
            "text/plain": [
              "[(1, 'Биотехнические системы и технологии', 4.303333333333334),\n",
              " (2, 'Компьютерная безопасность', 4.306666666666667),\n",
              " (6, 'Информационная безопасность телекоммуникационных систем', 4.640000000000001)]"
            ],
            "text/html": [
              "<table>\n",
              "    <thead>\n",
              "        <tr>\n",
              "            <th>id</th>\n",
              "            <th>Name</th>\n",
              "            <th>avg(ST.GPA)</th>\n",
              "        </tr>\n",
              "    </thead>\n",
              "    <tbody>\n",
              "        <tr>\n",
              "            <td>1</td>\n",
              "            <td>Биотехнические системы и технологии</td>\n",
              "            <td>4.303333333333334</td>\n",
              "        </tr>\n",
              "        <tr>\n",
              "            <td>2</td>\n",
              "            <td>Компьютерная безопасность</td>\n",
              "            <td>4.306666666666667</td>\n",
              "        </tr>\n",
              "        <tr>\n",
              "            <td>6</td>\n",
              "            <td>Информационная безопасность телекоммуникационных систем</td>\n",
              "            <td>4.640000000000001</td>\n",
              "        </tr>\n",
              "    </tbody>\n",
              "</table>"
            ]
          },
          "metadata": {},
          "execution_count": 73
        }
      ]
    },
    {
      "cell_type": "code",
      "source": [
        "%sql select * from students where secondname not like '_а%'"
      ],
      "metadata": {
        "colab": {
          "base_uri": "https://localhost:8080/",
          "height": 331
        },
        "id": "8fzAT3B8iwh6",
        "outputId": "6a54ad7a-b346-4bf6-8ad9-d555b357485d"
      },
      "execution_count": 70,
      "outputs": [
        {
          "output_type": "stream",
          "name": "stdout",
          "text": [
            " * sqlite://\n",
            "Done.\n"
          ]
        },
        {
          "output_type": "execute_result",
          "data": {
            "text/plain": [
              "[(1, 'Николай', 'Альянов', 1, '04-20', 3.58),\n",
              " (2, 'Ева', 'Крыгина', 1, '01-20', 4.58),\n",
              " (3, 'Анна', 'Исаева', 1, '01-20', 4.75),\n",
              " (4, 'Павел', 'Егоров', 2, '01-20', 4.83),\n",
              " (5, 'Тимофей', 'Тихомиров', 2, '03-20', 4.18),\n",
              " (6, 'Александр', 'Ширшов', 2, '06-20', 3.91),\n",
              " (8, 'Петр', 'Киселев', 3, '05-20', 3.5),\n",
              " (9, 'Дарья', 'Агашкина', 4, '02-20', 4.18),\n",
              " (10, 'Олег', 'Горин', 5, '01-20', 3.89),\n",
              " (11, 'Екатерина', 'Комарова', 6, '02-20', 4.83),\n",
              " (12, 'Иван', 'Челыхов', 6, '06-20', 4.45),\n",
              " (14, 'Ксения', 'Горлова', 7, '01-20', 5)]"
            ],
            "text/html": [
              "<table>\n",
              "    <thead>\n",
              "        <tr>\n",
              "            <th>student_id</th>\n",
              "            <th>Name</th>\n",
              "            <th>SecondName</th>\n",
              "            <th>Speciality_id</th>\n",
              "            <th>StudyGroup</th>\n",
              "            <th>GPA</th>\n",
              "        </tr>\n",
              "    </thead>\n",
              "    <tbody>\n",
              "        <tr>\n",
              "            <td>1</td>\n",
              "            <td>Николай</td>\n",
              "            <td>Альянов</td>\n",
              "            <td>1</td>\n",
              "            <td>04-20</td>\n",
              "            <td>3.58</td>\n",
              "        </tr>\n",
              "        <tr>\n",
              "            <td>2</td>\n",
              "            <td>Ева</td>\n",
              "            <td>Крыгина</td>\n",
              "            <td>1</td>\n",
              "            <td>01-20</td>\n",
              "            <td>4.58</td>\n",
              "        </tr>\n",
              "        <tr>\n",
              "            <td>3</td>\n",
              "            <td>Анна</td>\n",
              "            <td>Исаева</td>\n",
              "            <td>1</td>\n",
              "            <td>01-20</td>\n",
              "            <td>4.75</td>\n",
              "        </tr>\n",
              "        <tr>\n",
              "            <td>4</td>\n",
              "            <td>Павел</td>\n",
              "            <td>Егоров</td>\n",
              "            <td>2</td>\n",
              "            <td>01-20</td>\n",
              "            <td>4.83</td>\n",
              "        </tr>\n",
              "        <tr>\n",
              "            <td>5</td>\n",
              "            <td>Тимофей</td>\n",
              "            <td>Тихомиров</td>\n",
              "            <td>2</td>\n",
              "            <td>03-20</td>\n",
              "            <td>4.18</td>\n",
              "        </tr>\n",
              "        <tr>\n",
              "            <td>6</td>\n",
              "            <td>Александр</td>\n",
              "            <td>Ширшов</td>\n",
              "            <td>2</td>\n",
              "            <td>06-20</td>\n",
              "            <td>3.91</td>\n",
              "        </tr>\n",
              "        <tr>\n",
              "            <td>8</td>\n",
              "            <td>Петр</td>\n",
              "            <td>Киселев</td>\n",
              "            <td>3</td>\n",
              "            <td>05-20</td>\n",
              "            <td>3.5</td>\n",
              "        </tr>\n",
              "        <tr>\n",
              "            <td>9</td>\n",
              "            <td>Дарья</td>\n",
              "            <td>Агашкина</td>\n",
              "            <td>4</td>\n",
              "            <td>02-20</td>\n",
              "            <td>4.18</td>\n",
              "        </tr>\n",
              "        <tr>\n",
              "            <td>10</td>\n",
              "            <td>Олег</td>\n",
              "            <td>Горин</td>\n",
              "            <td>5</td>\n",
              "            <td>01-20</td>\n",
              "            <td>3.89</td>\n",
              "        </tr>\n",
              "        <tr>\n",
              "            <td>11</td>\n",
              "            <td>Екатерина</td>\n",
              "            <td>Комарова</td>\n",
              "            <td>6</td>\n",
              "            <td>02-20</td>\n",
              "            <td>4.83</td>\n",
              "        </tr>\n",
              "        <tr>\n",
              "            <td>12</td>\n",
              "            <td>Иван</td>\n",
              "            <td>Челыхов</td>\n",
              "            <td>6</td>\n",
              "            <td>06-20</td>\n",
              "            <td>4.45</td>\n",
              "        </tr>\n",
              "        <tr>\n",
              "            <td>14</td>\n",
              "            <td>Ксения</td>\n",
              "            <td>Горлова</td>\n",
              "            <td>7</td>\n",
              "            <td>01-20</td>\n",
              "            <td>5</td>\n",
              "        </tr>\n",
              "    </tbody>\n",
              "</table>"
            ]
          },
          "metadata": {},
          "execution_count": 70
        }
      ]
    }
  ]
}